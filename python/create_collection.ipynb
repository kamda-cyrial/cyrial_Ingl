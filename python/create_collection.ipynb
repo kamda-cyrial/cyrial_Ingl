{
 "cells": [
  {
   "cell_type": "code",
   "execution_count": 1,
   "metadata": {},
   "outputs": [
    {
     "data": {
      "text/plain": [
       "True"
      ]
     },
     "execution_count": 1,
     "metadata": {},
     "output_type": "execute_result"
    }
   ],
   "source": [
    "import solana\n",
    "from solana.publickey import PublicKey\n",
    "from solana.rpc.api import Client\n",
    "from solana.keypair import Keypair\n",
    "from solana.system_program import SYS_PROGRAM_ID\n",
    "from solana import system_program\n",
    "from solana import transaction\n",
    "from solana.sysvar import SYSVAR_RENT_PUBKEY, SYSVAR_CLOCK_PUBKEY\n",
    "from solana.transaction import *\n",
    "from spl.token import constants\n",
    "from spl.token import instructions as assoc_instructions\n",
    "import json\n",
    "import jsonrpcclient\n",
    "from solana.rpc.core import RPCException\n",
    "# import sys\n",
    "# sys.path.append('/instruction')\n",
    "from instruction import *\n",
    "from state import Constants as ingl_constants\n",
    "client = Client(\"http://api.devnet.solana.com\")\n",
    "client.is_connected()"
   ]
  },
  {
   "cell_type": "code",
   "execution_count": 2,
   "metadata": {},
   "outputs": [
    {
     "data": {
      "text/plain": [
       "2aphfLATTWqoB5jqYqDfeFBkkKDncpwysDHvdCgQgDFe"
      ]
     },
     "execution_count": 2,
     "metadata": {},
     "output_type": "execute_result"
    }
   ],
   "source": [
    "payer_keypair = Keypair.from_seed(b\"B2JeG8Dft3pBfQ4cX3bSqmJUFg11kD5h\")\n",
    "payer_keypair.public_key "
   ]
  },
  {
   "cell_type": "code",
   "execution_count": 3,
   "metadata": {},
   "outputs": [
    {
     "data": {
      "text/plain": [
       "'https://explorer.solana.com/tx/4XepMdP3483PkbRpYPeLCHEdvcV85uHLetJhmNexBRMs7cTWvspePvDdGge1at3G1HsK7uqqoobEY8v5HN9Y35um?cluster=devnet'"
      ]
     },
     "execution_count": 3,
     "metadata": {},
     "output_type": "execute_result"
    }
   ],
   "source": [
    "def create_collection(payer_keypair):\n",
    "    mint_pubkey, _mint_pubkey_bump = PublicKey.find_program_address([bytes(ingl_constants.INGL_NFT_COLLECTION_KEY, 'UTF-8')], ingl_constants.INGL_PROGRAM_ID)\n",
    "    mint_authority_pubkey, _mint_authority_pubkey_bump = PublicKey.find_program_address([bytes(ingl_constants.INGL_MINT_AUTHORITY_KEY, 'UTF-8')], ingl_constants.INGL_PROGRAM_ID)\n",
    "    minting_pool_pubkey, _minting_pool_pubkey_bump = PublicKey.find_program_address([bytes(ingl_constants.INGL_MINTING_POOL_KEY, 'UTF-8')], ingl_constants.INGL_PROGRAM_ID)\n",
    "    collection_holder_pubkey, _collection_holder_pubkey_bump = PublicKey.find_program_address([bytes(ingl_constants.COLLECTION_HOLDER_KEY, 'UTF-8')], ingl_constants.INGL_PROGRAM_ID)\n",
    "    mint_associated_account_pubkey = assoc_instructions.get_associated_token_address(collection_holder_pubkey, mint_pubkey)\n",
    "    token_metadata_pubkey = PublicKey(\"metaqbxxUerdq28cj1RbAWkYQm3ybzjb6a8bt518x1s\")\n",
    "    metadata_pda, _metadata_pda_bump = PublicKey.find_program_address([b\"metadata\", bytes(token_metadata_pubkey), bytes(mint_pubkey)], token_metadata_pubkey)\n",
    "    master_edition_pda, _master_edition_bump = PublicKey.find_program_address([b\"metadata\", bytes(token_metadata_pubkey), bytes(mint_pubkey), b\"edition\"], token_metadata_pubkey)\n",
    "    global_gem_pubkey, _global_gem_bump = PublicKey.find_program_address([bytes(ingl_constants.GLOBAL_GEM_KEY, 'UTF-8')], ingl_constants.INGL_PROGRAM_ID)\n",
    "\n",
    "    payer_account_meta = AccountMeta(payer_keypair.public_key, True, True)\n",
    "    collection_holder_meta = AccountMeta(collection_holder_pubkey, False, True) #This might be the cause of a Writable escalated permission error.\n",
    "    mint_account_meta = AccountMeta(mint_pubkey, False, True)\n",
    "    mint_authority_meta = AccountMeta(mint_authority_pubkey, False, False)\n",
    "    mint_associated_meta = AccountMeta(mint_associated_account_pubkey, False, True)\n",
    "    spl_program_meta = AccountMeta(constants.TOKEN_PROGRAM_ID, False, False)\n",
    "    sysvar_rent_account_meta = AccountMeta(solana.sysvar.SYSVAR_RENT_PUBKEY, False, False)\n",
    "    system_program_meta = AccountMeta(system_program.SYS_PROGRAM_ID, False, False)\n",
    "    token_metadata_meta = AccountMeta(metadata_pda, False, True)\n",
    "    metadata_program_id = AccountMeta(token_metadata_pubkey, False, False)\n",
    "    associated_program_meta = AccountMeta(constants.ASSOCIATED_TOKEN_PROGRAM_ID, False, False)\n",
    "    global_gem_meta = AccountMeta(global_gem_pubkey, False, True)\n",
    "    edition_meta = AccountMeta(master_edition_pda, False, True)\n",
    "\n",
    "    accounts = [\n",
    "        payer_account_meta,\n",
    "        collection_holder_meta,\n",
    "        mint_account_meta,\n",
    "        mint_authority_meta,\n",
    "        mint_associated_meta,\n",
    "        spl_program_meta,\n",
    "        sysvar_rent_account_meta,\n",
    "        system_program_meta,\n",
    "        token_metadata_meta,\n",
    "        global_gem_meta,\n",
    "        edition_meta,\n",
    "\n",
    "        system_program_meta,\n",
    "        system_program_meta,\n",
    "        spl_program_meta,\n",
    "        associated_program_meta,\n",
    "        spl_program_meta,\n",
    "        metadata_program_id,\n",
    "        metadata_program_id,\n",
    "    ]\n",
    "    data = build_instruction(\"MintNewCollection\")\n",
    "    transaction = Transaction()\n",
    "    transaction.add(TransactionInstruction(accounts, ingl_constants.INGL_PROGRAM_ID, data))\n",
    "    return f\"https://explorer.solana.com/tx/{client.send_transaction(transaction, payer_keypair)['result']}?cluster=devnet\"\n",
    "\n",
    "\n",
    "create_collection(payer_keypair)"
   ]
  }
 ],
 "metadata": {
  "kernelspec": {
   "display_name": "Python 3.9.13 64-bit (windows store)",
   "language": "python",
   "name": "python3"
  },
  "language_info": {
   "codemirror_mode": {
    "name": "ipython",
    "version": 3
   },
   "file_extension": ".py",
   "mimetype": "text/x-python",
   "name": "python",
   "nbconvert_exporter": "python",
   "pygments_lexer": "ipython3",
   "version": "3.9.13"
  },
  "orig_nbformat": 4,
  "vscode": {
   "interpreter": {
    "hash": "08b78e4066f9d28ced5f76d81dbed32db21884263686bb618ace706836f0dcaa"
   }
  }
 },
 "nbformat": 4,
 "nbformat_minor": 2
}
