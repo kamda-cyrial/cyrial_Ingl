{
 "cells": [
  {
   "cell_type": "code",
   "execution_count": 38,
   "metadata": {},
   "outputs": [
    {
     "data": {
      "text/plain": [
       "True"
      ]
     },
     "execution_count": 38,
     "metadata": {},
     "output_type": "execute_result"
    }
   ],
   "source": [
    "import solana\n",
    "from solana.publickey import PublicKey\n",
    "from solana.rpc.api import Client\n",
    "from solana.keypair import Keypair\n",
    "from solana.system_program import SYS_PROGRAM_ID\n",
    "from solana import system_program\n",
    "from solana import transaction\n",
    "from solana.sysvar import SYSVAR_RENT_PUBKEY, SYSVAR_CLOCK_PUBKEY\n",
    "from solana.transaction import *\n",
    "from borsh_construct import *\n",
    "from spl.token import constants\n",
    "from spl.token import instructions as assoc_instructions\n",
    "import json\n",
    "import jsonrpcclient\n",
    "from solana.rpc.core import RPCException\n",
    "\n",
    "client = Client(\"http://api.devnet.solana.com\")\n",
    "client.is_connected()"
   ]
  },
  {
   "cell_type": "code",
   "execution_count": 4,
   "metadata": {},
   "outputs": [
    {
     "data": {
      "text/plain": [
       "2aphfLATTWqoB5jqYqDfeFBkkKDncpwysDHvdCgQgDFe"
      ]
     },
     "execution_count": 4,
     "metadata": {},
     "output_type": "execute_result"
    }
   ],
   "source": [
    "ingl_program = PublicKey(\"B2JeG8Dft3pBfQ3qqm1PweTUqr4cX3bSqmJUFg11kD5h\")\n",
    "payer_keypair = Keypair.from_seed(b\"B2JeG8Dft3pBfQ4cX3bSqmJUFg11kD5h\")\n",
    "payer_keypair.public_key"
   ]
  },
  {
   "cell_type": "code",
   "execution_count": 9,
   "metadata": {},
   "outputs": [],
   "source": [
    "ClassEnum = Enum(\n",
    "    \"Ruby\",\n",
    "    \"Diamond\",\n",
    "    \"Sapphire\",\n",
    "    \"Emerald\",\n",
    "    \"Serendibite\",\n",
    "    \"Benitoite\",\n",
    "\n",
    "    enum_name = \"ClassEnum\",\n",
    ")\n",
    "\n",
    "InstructionEnum = Enum(\n",
    "    \"MintNft\" / ClassEnum,\n",
    "    \"MintNewCollection\",\n",
    "    \"Redeem\",\n",
    "    \"ImprintRarity\",\n",
    "    \"AllocateSol\",\n",
    "    \"DeAllocateSol\",\n",
    "    \"DelegateSol\",\n",
    "    \"UndelegateSol\",\n",
    "\n",
    "    enum_name = \"InstructionEnum\",\n",
    ")\n"
   ]
  },
  {
   "cell_type": "code",
   "execution_count": 43,
   "metadata": {},
   "outputs": [
    {
     "data": {
      "text/plain": [
       "'https://explorer.solana.com/tx/4d3nHdeEamqRmPzdjrfn1X86AroLeQGgVeTrN9aAFtqUYm1fNRkSNYndDjnY4sE3nwNzXKaZb58E1XFUgpfPA5Mo?cluster=devnet'"
      ]
     },
     "execution_count": 43,
     "metadata": {},
     "output_type": "execute_result"
    }
   ],
   "source": [
    "def create_collection(payer_keypair):\n",
    "    mint_pubkey, _mint_pubkey_bump = PublicKey.find_program_address([b\"ingl_nft_collection\"], ingl_program)\n",
    "    mint_authority_pubkey, _mint_authority_pubkey_bump = PublicKey.find_program_address([b\"mint_authority\"], ingl_program)\n",
    "    minting_pool_pubkey, _minting_pool_pubkey_bump = PublicKey.find_program_address([b\"minting_pool\"], ingl_program)\n",
    "    collection_holder_pubkey, _collection_holder_pubkey_bump = PublicKey.find_program_address([b\"collection_holder\"], ingl_program)\n",
    "    mint_associated_account_pubkey = assoc_instructions.get_associated_token_address(collection_holder_pubkey, mint_pubkey)\n",
    "    token_metadata_pubkey = PublicKey(\"metaqbxxUerdq28cj1RbAWkYQm3ybzjb6a8bt518x1s\")\n",
    "    metadata_pda, _metadata_pda_bump = PublicKey.find_program_address([b\"metadata\", bytes(token_metadata_pubkey), bytes(mint_pubkey)], token_metadata_pubkey)\n",
    "\n",
    "    payer_account_meta = AccountMeta(payer_keypair.public_key, True, True)\n",
    "    collection_holder_meta = AccountMeta(collection_holder_pubkey, False, True) #This might be the cause of a Writable escalated permission error.\n",
    "    mint_account_meta = AccountMeta(mint_pubkey, False, True)\n",
    "    mint_authority_meta = AccountMeta(mint_authority_pubkey, False, False)\n",
    "    mint_associated_meta = AccountMeta(mint_associated_account_pubkey, False, True)\n",
    "    spl_program_meta = AccountMeta(constants.TOKEN_PROGRAM_ID, False, False)\n",
    "    sysvar_rent_account_meta = AccountMeta(solana.sysvar.SYSVAR_RENT_PUBKEY, False, False)\n",
    "    system_program_meta = AccountMeta(system_program.SYS_PROGRAM_ID, False, False)\n",
    "    token_metadata_meta = AccountMeta(metadata_pda, False, True)\n",
    "    metadata_program_id = AccountMeta(token_metadata_pubkey, False, False)\n",
    "    associated_program_meta = AccountMeta(constants.ASSOCIATED_TOKEN_PROGRAM_ID, False, False)\n",
    "\n",
    "    accounts = [\n",
    "        payer_account_meta,\n",
    "        collection_holder_meta,\n",
    "        mint_account_meta,\n",
    "        mint_authority_meta,\n",
    "        mint_associated_meta,\n",
    "        spl_program_meta,\n",
    "        sysvar_rent_account_meta,\n",
    "        system_program_meta,\n",
    "        token_metadata_meta,\n",
    "\n",
    "        system_program_meta,\n",
    "        spl_program_meta,\n",
    "        associated_program_meta,\n",
    "        spl_program_meta,\n",
    "        metadata_program_id,\n",
    "        spl_program_meta,\n",
    "    ]\n",
    "    data = InstructionEnum.build(InstructionEnum.enum.MintNewCollection())\n",
    "    transaction = Transaction()\n",
    "    transaction.add(TransactionInstruction(accounts, ingl_program, data))\n",
    "    return f\"https://explorer.solana.com/tx/{client.send_transaction(transaction, payer_keypair)['result']}?cluster=devnet\"\n",
    "\n",
    "\n",
    "create_collection(payer_keypair)"
   ]
  }
 ],
 "metadata": {
  "kernelspec": {
   "display_name": "Python 3.9.13 64-bit (windows store)",
   "language": "python",
   "name": "python3"
  },
  "language_info": {
   "codemirror_mode": {
    "name": "ipython",
    "version": 3
   },
   "file_extension": ".py",
   "mimetype": "text/x-python",
   "name": "python",
   "nbconvert_exporter": "python",
   "pygments_lexer": "ipython3",
   "version": "3.9.13"
  },
  "orig_nbformat": 4,
  "vscode": {
   "interpreter": {
    "hash": "08b78e4066f9d28ced5f76d81dbed32db21884263686bb618ace706836f0dcaa"
   }
  }
 },
 "nbformat": 4,
 "nbformat_minor": 2
}
