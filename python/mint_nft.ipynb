{
 "cells": [
  {
   "cell_type": "code",
   "execution_count": 1,
   "metadata": {},
   "outputs": [
    {
     "data": {
      "text/plain": [
       "True"
      ]
     },
     "execution_count": 1,
     "metadata": {},
     "output_type": "execute_result"
    }
   ],
   "source": [
    "import solana\n",
    "from solana.publickey import PublicKey\n",
    "from solana.rpc.api import Client\n",
    "from solana.keypair import Keypair\n",
    "from solana.system_program import SYS_PROGRAM_ID\n",
    "from solana import system_program\n",
    "from solana import transaction\n",
    "from solana.sysvar import SYSVAR_RENT_PUBKEY, SYSVAR_CLOCK_PUBKEY\n",
    "from solana.transaction import *\n",
    "from spl.token import constants\n",
    "from spl.token import instructions as assoc_instructions\n",
    "import json\n",
    "import jsonrpcclient\n",
    "from solana.rpc.core import RPCException\n",
    "# import sys\n",
    "# sys.path.append('/instruction')\n",
    "from instruction import *\n",
    "from state import Constants as ingl_constants\n",
    "client = Client(\"http://api.devnet.solana.com\")\n",
    "client.is_connected()"
   ]
  },
  {
   "cell_type": "code",
   "execution_count": 2,
   "metadata": {},
   "outputs": [
    {
     "data": {
      "text/plain": [
       "(2aphfLATTWqoB5jqYqDfeFBkkKDncpwysDHvdCgQgDFe,\n",
       " HdF23fuXhhxBM76roWstnLUijdUPF5kZqhzJJrHbDdUX)"
      ]
     },
     "execution_count": 2,
     "metadata": {},
     "output_type": "execute_result"
    }
   ],
   "source": [
    "payer_keypair = Keypair.from_seed(b\"B2JeG8Dft3pBfQ4cX3bSqmJUFg11kD5h\")\n",
    "mint_keypair = Keypair()\n",
    "payer_keypair.public_key, mint_keypair.public_key "
   ]
  },
  {
   "cell_type": "code",
   "execution_count": 3,
   "metadata": {},
   "outputs": [
    {
     "name": "stdout",
     "output_type": "stream",
     "text": [
      "[AccountMeta(pubkey=2aphfLATTWqoB5jqYqDfeFBkkKDncpwysDHvdCgQgDFe, is_signer=True, is_writable=True), AccountMeta(pubkey=HdF23fuXhhxBM76roWstnLUijdUPF5kZqhzJJrHbDdUX, is_signer=True, is_writable=True), AccountMeta(pubkey=GoFNfYabgFk7QRKXc64nKMPC3HJXjcCm4fqafZQB669h, is_signer=False, is_writable=True), AccountMeta(pubkey=G7oJu1wNYy9qgydRnfcUNBXRF1oaKokSm9um5VWis9rb, is_signer=False, is_writable=True), AccountMeta(pubkey=TokenkegQfeZyiNwAJbNbGKPFXCWuBvf9Ss623VQ5DA, is_signer=False, is_writable=False), AccountMeta(pubkey=SysvarRent111111111111111111111111111111111, is_signer=False, is_writable=False), AccountMeta(pubkey=11111111111111111111111111111111, is_signer=False, is_writable=False), AccountMeta(pubkey=3e96842dqWboZrWguYudbpg8MergLoVtSbf2trU8M4FF, is_signer=False, is_writable=True), AccountMeta(pubkey=HGWQeTyxFzTXPJsK7ZZ1bUfa4wgDWZABfg71aaSD1WaL, is_signer=False, is_writable=True), AccountMeta(pubkey=FDA2A4FiYoJcMSv93iFHvJtcv1mYdVePJ6Pxg3sVCiEA, is_signer=False, is_writable=True), AccountMeta(pubkey=8aLHMtxS4GwGnN5He8Zy8WtJ7cbMA2A3kPk5p6UfSHTp, is_signer=False, is_writable=True), AccountMeta(pubkey=SysvarC1ock11111111111111111111111111111111, is_signer=False, is_writable=False), AccountMeta(pubkey=DVY4rA2U8xDF7YRWha481nKzSqtat5CDE4G4CrHwp39h, is_signer=False, is_writable=True), AccountMeta(pubkey=BaNhYVxaZUYvACKGw6fzzZNqkhMH3nyEMxZMWyw9mDCu, is_signer=False, is_writable=False), AccountMeta(pubkey=3juLrjLPRfKJV4KUeAy4joWUUxu7gD9kBbRBNfmpsCTT, is_signer=False, is_writable=True), AccountMeta(pubkey=11111111111111111111111111111111, is_signer=False, is_writable=False), AccountMeta(pubkey=TokenkegQfeZyiNwAJbNbGKPFXCWuBvf9Ss623VQ5DA, is_signer=False, is_writable=False), AccountMeta(pubkey=11111111111111111111111111111111, is_signer=False, is_writable=False), AccountMeta(pubkey=TokenkegQfeZyiNwAJbNbGKPFXCWuBvf9Ss623VQ5DA, is_signer=False, is_writable=False), AccountMeta(pubkey=ATokenGPvbdGVxr1b2hvZbsiqW5xWH25efTNsLJA8knL, is_signer=False, is_writable=False), AccountMeta(pubkey=TokenkegQfeZyiNwAJbNbGKPFXCWuBvf9Ss623VQ5DA, is_signer=False, is_writable=False), AccountMeta(pubkey=metaqbxxUerdq28cj1RbAWkYQm3ybzjb6a8bt518x1s, is_signer=False, is_writable=False), AccountMeta(pubkey=metaqbxxUerdq28cj1RbAWkYQm3ybzjb6a8bt518x1s, is_signer=False, is_writable=False), AccountMeta(pubkey=TokenkegQfeZyiNwAJbNbGKPFXCWuBvf9Ss623VQ5DA, is_signer=False, is_writable=False), AccountMeta(pubkey=metaqbxxUerdq28cj1RbAWkYQm3ybzjb6a8bt518x1s, is_signer=False, is_writable=False)]\n"
     ]
    },
    {
     "ename": "RPCException",
     "evalue": "{'code': -32002, 'message': 'Transaction simulation failed: Error processing Instruction 0: custom program error: 0x52', 'data': {'accounts': None, 'err': {'InstructionError': [0, {'Custom': 82}]}, 'logs': ['Program xEm9etyopoopNE6ZdEnp2mjks4XmMAxJb8T9YqP6q5K invoke [1]', 'Program log: Reached invoke', 'Program 11111111111111111111111111111111 invoke [2]', 'Program 11111111111111111111111111111111 success', 'Program 11111111111111111111111111111111 invoke [2]', 'Program 11111111111111111111111111111111 success', 'Program 11111111111111111111111111111111 invoke [2]', 'Program 11111111111111111111111111111111 success', 'Program TokenkegQfeZyiNwAJbNbGKPFXCWuBvf9Ss623VQ5DA invoke [2]', 'Program log: Instruction: InitializeMint', 'Program TokenkegQfeZyiNwAJbNbGKPFXCWuBvf9Ss623VQ5DA consumed 2701 of 166242 compute units', 'Program TokenkegQfeZyiNwAJbNbGKPFXCWuBvf9Ss623VQ5DA success', 'Program ATokenGPvbdGVxr1b2hvZbsiqW5xWH25efTNsLJA8knL invoke [2]', 'Program log: Create', 'Program 11111111111111111111111111111111 invoke [3]', 'Program 11111111111111111111111111111111 success', 'Program log: Initialize the associated token account', 'Program TokenkegQfeZyiNwAJbNbGKPFXCWuBvf9Ss623VQ5DA invoke [3]', 'Program log: Instruction: InitializeAccount3', 'Program TokenkegQfeZyiNwAJbNbGKPFXCWuBvf9Ss623VQ5DA consumed 2958 of 145743 compute units', 'Program TokenkegQfeZyiNwAJbNbGKPFXCWuBvf9Ss623VQ5DA success', 'Program ATokenGPvbdGVxr1b2hvZbsiqW5xWH25efTNsLJA8knL consumed 15582 of 157810 compute units', 'Program ATokenGPvbdGVxr1b2hvZbsiqW5xWH25efTNsLJA8knL success', 'Program log: Mint new collection token', 'Program TokenkegQfeZyiNwAJbNbGKPFXCWuBvf9Ss623VQ5DA invoke [2]', 'Program log: Instruction: MintTo', 'Program TokenkegQfeZyiNwAJbNbGKPFXCWuBvf9Ss623VQ5DA consumed 3024 of 139331 compute units', 'Program TokenkegQfeZyiNwAJbNbGKPFXCWuBvf9Ss623VQ5DA success', 'Program log: starting metadata creation', 'Program metaqbxxUerdq28cj1RbAWkYQm3ybzjb6a8bt518x1s invoke [2]', 'Program log: Instruction: Create Metadata Accounts v3', 'Program log: Transfer 5616720 lamports to the new account', 'Program 11111111111111111111111111111111 invoke [3]', 'Program 11111111111111111111111111111111 success', 'Program log: Allocate space for the account', 'Program 11111111111111111111111111111111 invoke [3]', 'Program 11111111111111111111111111111111 success', 'Program log: Assign the account to the owning program', 'Program 11111111111111111111111111111111 invoke [3]', 'Program 11111111111111111111111111111111 success', 'Program metaqbxxUerdq28cj1RbAWkYQm3ybzjb6a8bt518x1s consumed 32559 of 124930 compute units', 'Program metaqbxxUerdq28cj1RbAWkYQm3ybzjb6a8bt518x1s success', 'Program log: verifying collection', 'Program metaqbxxUerdq28cj1RbAWkYQm3ybzjb6a8bt518x1s invoke [2]', 'Program log: Instruction: Set and Verify Collection', 'Program log: Collection Must Be a Unique Master Edition v2', 'Program metaqbxxUerdq28cj1RbAWkYQm3ybzjb6a8bt518x1s consumed 8476 of 86387 compute units', 'Program metaqbxxUerdq28cj1RbAWkYQm3ybzjb6a8bt518x1s failed: custom program error: 0x52', 'Program xEm9etyopoopNE6ZdEnp2mjks4XmMAxJb8T9YqP6q5K consumed 122089 of 200000 compute units', 'Program xEm9etyopoopNE6ZdEnp2mjks4XmMAxJb8T9YqP6q5K failed: custom program error: 0x52'], 'unitsConsumed': 0}}",
     "output_type": "error",
     "traceback": [
      "\u001b[1;31m---------------------------------------------------------------------------\u001b[0m",
      "\u001b[1;31mRPCException\u001b[0m                              Traceback (most recent call last)",
      "\u001b[1;32mc:\\Users\\ckamd\\OneDrive\\Desktop\\ingl\\python\\mint_nft.ipynb Cell 3\u001b[0m in \u001b[0;36m<cell line: 69>\u001b[1;34m()\u001b[0m\n\u001b[0;32m     <a href='vscode-notebook-cell:/c%3A/Users/ckamd/OneDrive/Desktop/ingl/python/mint_nft.ipynb#ch0000002?line=64'>65</a>\u001b[0m     transaction\u001b[39m.\u001b[39madd(TransactionInstruction(accounts, ingl_constants\u001b[39m.\u001b[39mINGL_PROGRAM_ID, data))\n\u001b[0;32m     <a href='vscode-notebook-cell:/c%3A/Users/ckamd/OneDrive/Desktop/ingl/python/mint_nft.ipynb#ch0000002?line=65'>66</a>\u001b[0m     \u001b[39mreturn\u001b[39;00m \u001b[39mf\u001b[39m\u001b[39m\"\u001b[39m\u001b[39mhttps://explorer.solana.com/tx/\u001b[39m\u001b[39m{\u001b[39;00mclient\u001b[39m.\u001b[39msend_transaction(transaction, payer_keypair, mint_keypair)[\u001b[39m'\u001b[39m\u001b[39mresult\u001b[39m\u001b[39m'\u001b[39m]\u001b[39m}\u001b[39;00m\u001b[39m?cluster=devnet\u001b[39m\u001b[39m\"\u001b[39m\n\u001b[1;32m---> <a href='vscode-notebook-cell:/c%3A/Users/ckamd/OneDrive/Desktop/ingl/python/mint_nft.ipynb#ch0000002?line=68'>69</a>\u001b[0m mint_nft(payer_keypair, mint_keypair)\n",
      "\u001b[1;32mc:\\Users\\ckamd\\OneDrive\\Desktop\\ingl\\python\\mint_nft.ipynb Cell 3\u001b[0m in \u001b[0;36mmint_nft\u001b[1;34m(payer_keypair, mint_keypair)\u001b[0m\n\u001b[0;32m     <a href='vscode-notebook-cell:/c%3A/Users/ckamd/OneDrive/Desktop/ingl/python/mint_nft.ipynb#ch0000002?line=63'>64</a>\u001b[0m transaction \u001b[39m=\u001b[39m Transaction()\n\u001b[0;32m     <a href='vscode-notebook-cell:/c%3A/Users/ckamd/OneDrive/Desktop/ingl/python/mint_nft.ipynb#ch0000002?line=64'>65</a>\u001b[0m transaction\u001b[39m.\u001b[39madd(TransactionInstruction(accounts, ingl_constants\u001b[39m.\u001b[39mINGL_PROGRAM_ID, data))\n\u001b[1;32m---> <a href='vscode-notebook-cell:/c%3A/Users/ckamd/OneDrive/Desktop/ingl/python/mint_nft.ipynb#ch0000002?line=65'>66</a>\u001b[0m \u001b[39mreturn\u001b[39;00m \u001b[39mf\u001b[39m\u001b[39m\"\u001b[39m\u001b[39mhttps://explorer.solana.com/tx/\u001b[39m\u001b[39m{\u001b[39;00mclient\u001b[39m.\u001b[39msend_transaction(transaction, payer_keypair, mint_keypair)[\u001b[39m'\u001b[39m\u001b[39mresult\u001b[39m\u001b[39m'\u001b[39m]\u001b[39m}\u001b[39;00m\u001b[39m?cluster=devnet\u001b[39m\u001b[39m\"\u001b[39m\n",
      "File \u001b[1;32m~\\AppData\\Local\\Packages\\PythonSoftwareFoundation.Python.3.9_qbz5n2kfra8p0\\LocalCache\\local-packages\\Python39\\site-packages\\solana\\rpc\\api.py:1387\u001b[0m, in \u001b[0;36mClient.send_transaction\u001b[1;34m(self, txn, opts, recent_blockhash, *signers)\u001b[0m\n\u001b[0;32m   1380\u001b[0m txn\u001b[39m.\u001b[39msign(\u001b[39m*\u001b[39msigners)\n\u001b[0;32m   1381\u001b[0m opts_to_use \u001b[39m=\u001b[39m (\n\u001b[0;32m   1382\u001b[0m     types\u001b[39m.\u001b[39mTxOpts(preflight_commitment\u001b[39m=\u001b[39m\u001b[39mself\u001b[39m\u001b[39m.\u001b[39m_commitment, last_valid_block_height\u001b[39m=\u001b[39mlast_valid_block_height)\n\u001b[0;32m   1383\u001b[0m     \u001b[39mif\u001b[39;00m opts \u001b[39mis\u001b[39;00m \u001b[39mNone\u001b[39;00m\n\u001b[0;32m   1384\u001b[0m     \u001b[39melse\u001b[39;00m opts\n\u001b[0;32m   1385\u001b[0m )\n\u001b[1;32m-> 1387\u001b[0m txn_resp \u001b[39m=\u001b[39m \u001b[39mself\u001b[39;49m\u001b[39m.\u001b[39;49msend_raw_transaction(txn\u001b[39m.\u001b[39;49mserialize(), opts\u001b[39m=\u001b[39;49mopts_to_use)\n\u001b[0;32m   1388\u001b[0m \u001b[39mif\u001b[39;00m \u001b[39mself\u001b[39m\u001b[39m.\u001b[39mblockhash_cache:\n\u001b[0;32m   1389\u001b[0m     blockhash_resp \u001b[39m=\u001b[39m \u001b[39mself\u001b[39m\u001b[39m.\u001b[39mget_latest_blockhash(Finalized)\n",
      "File \u001b[1;32m~\\AppData\\Local\\Packages\\PythonSoftwareFoundation.Python.3.9_qbz5n2kfra8p0\\LocalCache\\local-packages\\Python39\\site-packages\\solana\\rpc\\api.py:1328\u001b[0m, in \u001b[0;36mClient.send_raw_transaction\u001b[1;34m(self, txn, opts)\u001b[0m\n\u001b[0;32m   1326\u001b[0m resp \u001b[39m=\u001b[39m \u001b[39mself\u001b[39m\u001b[39m.\u001b[39m_provider\u001b[39m.\u001b[39mmake_request(\u001b[39m*\u001b[39margs)\n\u001b[0;32m   1327\u001b[0m \u001b[39mif\u001b[39;00m opts_to_use\u001b[39m.\u001b[39mskip_confirmation:\n\u001b[1;32m-> 1328\u001b[0m     \u001b[39mreturn\u001b[39;00m \u001b[39mself\u001b[39;49m\u001b[39m.\u001b[39;49m_post_send(resp)\n\u001b[0;32m   1329\u001b[0m post_send_args \u001b[39m=\u001b[39m \u001b[39mself\u001b[39m\u001b[39m.\u001b[39m_send_raw_transaction_post_send_args(resp, opts_to_use)\n\u001b[0;32m   1330\u001b[0m \u001b[39mreturn\u001b[39;00m \u001b[39mself\u001b[39m\u001b[39m.\u001b[39m__post_send_with_confirm(\u001b[39m*\u001b[39mpost_send_args)\n",
      "File \u001b[1;32m~\\AppData\\Local\\Packages\\PythonSoftwareFoundation.Python.3.9_qbz5n2kfra8p0\\LocalCache\\local-packages\\Python39\\site-packages\\solana\\rpc\\core.py:451\u001b[0m, in \u001b[0;36m_ClientCore._post_send\u001b[1;34m(resp)\u001b[0m\n\u001b[0;32m    449\u001b[0m error \u001b[39m=\u001b[39m resp\u001b[39m.\u001b[39mget(\u001b[39m\"\u001b[39m\u001b[39merror\u001b[39m\u001b[39m\"\u001b[39m)\n\u001b[0;32m    450\u001b[0m \u001b[39mif\u001b[39;00m error:\n\u001b[1;32m--> 451\u001b[0m     \u001b[39mraise\u001b[39;00m RPCException(error)\n\u001b[0;32m    452\u001b[0m \u001b[39mif\u001b[39;00m \u001b[39mnot\u001b[39;00m resp\u001b[39m.\u001b[39mget(\u001b[39m\"\u001b[39m\u001b[39mresult\u001b[39m\u001b[39m\"\u001b[39m):\n\u001b[0;32m    453\u001b[0m     \u001b[39mraise\u001b[39;00m RPCNoResultException(\u001b[39m\"\u001b[39m\u001b[39mFailed to send transaction\u001b[39m\u001b[39m\"\u001b[39m)\n",
      "\u001b[1;31mRPCException\u001b[0m: {'code': -32002, 'message': 'Transaction simulation failed: Error processing Instruction 0: custom program error: 0x52', 'data': {'accounts': None, 'err': {'InstructionError': [0, {'Custom': 82}]}, 'logs': ['Program xEm9etyopoopNE6ZdEnp2mjks4XmMAxJb8T9YqP6q5K invoke [1]', 'Program log: Reached invoke', 'Program 11111111111111111111111111111111 invoke [2]', 'Program 11111111111111111111111111111111 success', 'Program 11111111111111111111111111111111 invoke [2]', 'Program 11111111111111111111111111111111 success', 'Program 11111111111111111111111111111111 invoke [2]', 'Program 11111111111111111111111111111111 success', 'Program TokenkegQfeZyiNwAJbNbGKPFXCWuBvf9Ss623VQ5DA invoke [2]', 'Program log: Instruction: InitializeMint', 'Program TokenkegQfeZyiNwAJbNbGKPFXCWuBvf9Ss623VQ5DA consumed 2701 of 166242 compute units', 'Program TokenkegQfeZyiNwAJbNbGKPFXCWuBvf9Ss623VQ5DA success', 'Program ATokenGPvbdGVxr1b2hvZbsiqW5xWH25efTNsLJA8knL invoke [2]', 'Program log: Create', 'Program 11111111111111111111111111111111 invoke [3]', 'Program 11111111111111111111111111111111 success', 'Program log: Initialize the associated token account', 'Program TokenkegQfeZyiNwAJbNbGKPFXCWuBvf9Ss623VQ5DA invoke [3]', 'Program log: Instruction: InitializeAccount3', 'Program TokenkegQfeZyiNwAJbNbGKPFXCWuBvf9Ss623VQ5DA consumed 2958 of 145743 compute units', 'Program TokenkegQfeZyiNwAJbNbGKPFXCWuBvf9Ss623VQ5DA success', 'Program ATokenGPvbdGVxr1b2hvZbsiqW5xWH25efTNsLJA8knL consumed 15582 of 157810 compute units', 'Program ATokenGPvbdGVxr1b2hvZbsiqW5xWH25efTNsLJA8knL success', 'Program log: Mint new collection token', 'Program TokenkegQfeZyiNwAJbNbGKPFXCWuBvf9Ss623VQ5DA invoke [2]', 'Program log: Instruction: MintTo', 'Program TokenkegQfeZyiNwAJbNbGKPFXCWuBvf9Ss623VQ5DA consumed 3024 of 139331 compute units', 'Program TokenkegQfeZyiNwAJbNbGKPFXCWuBvf9Ss623VQ5DA success', 'Program log: starting metadata creation', 'Program metaqbxxUerdq28cj1RbAWkYQm3ybzjb6a8bt518x1s invoke [2]', 'Program log: Instruction: Create Metadata Accounts v3', 'Program log: Transfer 5616720 lamports to the new account', 'Program 11111111111111111111111111111111 invoke [3]', 'Program 11111111111111111111111111111111 success', 'Program log: Allocate space for the account', 'Program 11111111111111111111111111111111 invoke [3]', 'Program 11111111111111111111111111111111 success', 'Program log: Assign the account to the owning program', 'Program 11111111111111111111111111111111 invoke [3]', 'Program 11111111111111111111111111111111 success', 'Program metaqbxxUerdq28cj1RbAWkYQm3ybzjb6a8bt518x1s consumed 32559 of 124930 compute units', 'Program metaqbxxUerdq28cj1RbAWkYQm3ybzjb6a8bt518x1s success', 'Program log: verifying collection', 'Program metaqbxxUerdq28cj1RbAWkYQm3ybzjb6a8bt518x1s invoke [2]', 'Program log: Instruction: Set and Verify Collection', 'Program log: Collection Must Be a Unique Master Edition v2', 'Program metaqbxxUerdq28cj1RbAWkYQm3ybzjb6a8bt518x1s consumed 8476 of 86387 compute units', 'Program metaqbxxUerdq28cj1RbAWkYQm3ybzjb6a8bt518x1s failed: custom program error: 0x52', 'Program xEm9etyopoopNE6ZdEnp2mjks4XmMAxJb8T9YqP6q5K consumed 122089 of 200000 compute units', 'Program xEm9etyopoopNE6ZdEnp2mjks4XmMAxJb8T9YqP6q5K failed: custom program error: 0x52'], 'unitsConsumed': 0}}"
     ]
    }
   ],
   "source": [
    "def mint_nft(payer_keypair, mint_keypair):\n",
    "    mint_authority_pubkey, _mint_authority_pubkey_bump = PublicKey.find_program_address([bytes(ingl_constants.INGL_MINT_AUTHORITY_KEY, 'UTF-8')], ingl_constants.INGL_PROGRAM_ID)\n",
    "    collection_mint_pubkey, _collection_mint_pubkey_bump = PublicKey.find_program_address([bytes(ingl_constants.INGL_NFT_COLLECTION_KEY, 'UTF-8')], ingl_constants.INGL_PROGRAM_ID)\n",
    "    minting_pool_pubkey, _minting_pool_pubkey_bump = PublicKey.find_program_address([bytes(ingl_constants.INGL_MINTING_POOL_KEY, 'UTF-8')], ingl_constants.INGL_PROGRAM_ID)\n",
    "    collection_holder_pubkey, _collection_holder_pubkey_bump = PublicKey.find_program_address([bytes(ingl_constants.COLLECTION_HOLDER_KEY, 'UTF-8')], ingl_constants.INGL_PROGRAM_ID)\n",
    "    mint_associated_account_pubkey = assoc_instructions.get_associated_token_address(payer_keypair.public_key, mint_keypair.public_key)\n",
    "    metaplex_program_id = PublicKey(\"metaqbxxUerdq28cj1RbAWkYQm3ybzjb6a8bt518x1s\")\n",
    "    metadata_pda, _metadata_pda_bump = PublicKey.find_program_address([b\"metadata\", bytes(metaplex_program_id), bytes(mint_keypair.public_key)], metaplex_program_id)\n",
    "    global_gem_pubkey, _global_gem_bump = PublicKey.find_program_address([bytes(ingl_constants.GLOBAL_GEM_KEY, 'UTF-8')], ingl_constants.INGL_PROGRAM_ID)\n",
    "    master_edition_pda, _master_edition_bump = PublicKey.find_program_address([b\"metadata\", bytes(metaplex_program_id), bytes(collection_mint_pubkey), b\"edition\"], metaplex_program_id)\n",
    "    collection_account_pda, _collection_account_bump = PublicKey.find_program_address([b\"metadata\", bytes(metaplex_program_id), bytes(collection_mint_pubkey)], metaplex_program_id)\n",
    "    gem_account_pubkey, _gem_account_bump = PublicKey.find_program_address([bytes(ingl_constants.GEM_ACCOUNT_CONST, 'UTF-8'), bytes(mint_keypair.public_key)], ingl_constants.INGL_PROGRAM_ID)\n",
    "\n",
    "    payer_account_meta = AccountMeta(payer_keypair.public_key, True, True)\n",
    "    collection_holder_meta = AccountMeta(collection_holder_pubkey, False, True) #This might be the cause of a Writable escalated permission error.\n",
    "    mint_account_meta = AccountMeta(mint_keypair.public_key, True, True)\n",
    "    minting_pool_meta = AccountMeta(minting_pool_pubkey, False, True)\n",
    "    mint_authority_meta = AccountMeta(mint_authority_pubkey, False, True)\n",
    "    mint_associated_meta = AccountMeta(mint_associated_account_pubkey, False, True)\n",
    "    spl_program_meta = AccountMeta(constants.TOKEN_PROGRAM_ID, False, False)\n",
    "    sysvar_rent_account_meta = AccountMeta(solana.sysvar.SYSVAR_RENT_PUBKEY, False, False)\n",
    "    system_program_meta = AccountMeta(system_program.SYS_PROGRAM_ID, False, False)\n",
    "    token_metadata_meta = AccountMeta(metadata_pda, False, True)\n",
    "    metadata_program_id = AccountMeta(metaplex_program_id, False, False)\n",
    "    associated_program_meta = AccountMeta(constants.ASSOCIATED_TOKEN_PROGRAM_ID, False, False)\n",
    "    global_gem_meta = AccountMeta(global_gem_pubkey, False, True)\n",
    "    gem_account_meta = AccountMeta(gem_account_pubkey, False, True)\n",
    "    sysvar_clock_meta = AccountMeta(solana.sysvar.SYSVAR_CLOCK_PUBKEY, False, False)\n",
    "    edition_meta = AccountMeta(master_edition_pda, False, True)\n",
    "    collection_mint_meta = AccountMeta(collection_mint_pubkey, False, False)\n",
    "    collection_account_meta = AccountMeta(collection_account_pda, False, True)\n",
    "\n",
    "\n",
    "    accounts = [\n",
    "        payer_account_meta,\n",
    "        mint_account_meta,\n",
    "        mint_authority_meta,\n",
    "        mint_associated_meta,\n",
    "        spl_program_meta,\n",
    "        sysvar_rent_account_meta,\n",
    "        system_program_meta,\n",
    "        token_metadata_meta,\n",
    "        minting_pool_meta,\n",
    "        global_gem_meta,\n",
    "        gem_account_meta,\n",
    "        sysvar_clock_meta,\n",
    "        edition_meta,\n",
    "        collection_mint_meta,\n",
    "        collection_account_meta,\n",
    "\n",
    "        system_program_meta,\n",
    "        spl_program_meta,\n",
    "        system_program_meta,\n",
    "        spl_program_meta,\n",
    "        associated_program_meta,\n",
    "        spl_program_meta,\n",
    "        metadata_program_id,\n",
    "        metadata_program_id,\n",
    "        spl_program_meta,\n",
    "        metadata_program_id,\n",
    "    ]\n",
    "    print(accounts)\n",
    "    data = build_instruction(\"MintNft\", ClassEnum.enum.Benitoite())\n",
    "    transaction = Transaction()\n",
    "    transaction.add(TransactionInstruction(accounts, ingl_constants.INGL_PROGRAM_ID, data))\n",
    "    return f\"https://explorer.solana.com/tx/{client.send_transaction(transaction, payer_keypair, mint_keypair)['result']}?cluster=devnet\"\n",
    "\n",
    "\n",
    "mint_nft(payer_keypair, mint_keypair)"
   ]
  }
 ],
 "metadata": {
  "kernelspec": {
   "display_name": "Python 3.9.13 64-bit (windows store)",
   "language": "python",
   "name": "python3"
  },
  "language_info": {
   "codemirror_mode": {
    "name": "ipython",
    "version": 3
   },
   "file_extension": ".py",
   "mimetype": "text/x-python",
   "name": "python",
   "nbconvert_exporter": "python",
   "pygments_lexer": "ipython3",
   "version": "3.9.13"
  },
  "orig_nbformat": 4,
  "vscode": {
   "interpreter": {
    "hash": "08b78e4066f9d28ced5f76d81dbed32db21884263686bb618ace706836f0dcaa"
   }
  }
 },
 "nbformat": 4,
 "nbformat_minor": 2
}
