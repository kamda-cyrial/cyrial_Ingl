{
 "cells": [
  {
   "cell_type": "code",
   "execution_count": 11,
   "metadata": {},
   "outputs": [
    {
     "data": {
      "text/plain": [
       "('ApPRG76AL_XAMGkvhuSqIqaSDkeduWBGXA3Cmz4C1Zc', 1.05595)"
      ]
     },
     "execution_count": 11,
     "metadata": {},
     "output_type": "execute_result"
    }
   ],
   "source": [
    "\n",
    "from arweave.arweave_lib import Wallet, Transaction, API_URL\n",
    "import json\n",
    "\n",
    "# Load your arweave wallet\n",
    "your_ar_wallet = Wallet('arweave-key.json')\n",
    "your_ar_wallet.address, your_ar_wallet.balance"
   ]
  },
  {
   "cell_type": "code",
   "execution_count": 10,
   "metadata": {},
   "outputs": [
    {
     "name": "stdout",
     "output_type": "stream",
     "text": [
      "https://arweave.net/zdVJ1qQAXkr14-9P2ESJhZsq4mXBSwnkMYnN1hiIPxo\n"
     ]
    }
   ],
   "source": [
    "metadata = {\n",
    "    \"name\": \"NewB\",\n",
    "    \"symbol\": \"Ingl-Col\",\n",
    "    \"description\": \"Democratizing Validator Creation on Solana\",\n",
    "    \"seller_fee_basis_points\": 300,\n",
    "    \"external_url\": \"https://www.ingl.io\",\n",
    "    \"attributes\": [\n",
    "        {\n",
    "            \"trait_type\": \"Class\",\n",
    "            \"value\": \"Ruby\"\n",
    "        }\n",
    "    ],\n",
    "    \"collection\": {\n",
    "        \"name\": \"ingl-Gem\",\n",
    "        \"family\": \"Ingl-Collections\",\n",
    "    },\n",
    "    \"properties\": {\n",
    "        \"files\": [\n",
    "            {\n",
    "                \"uri\": \"https://cdn.discordapp.com/attachments/973276746700980224/999358394337087528/0001-0300_2.mp4\",\n",
    "                \"type\": \"video/mp4\",\n",
    "            },\n",
    "        ],\n",
    "        \"category\": \"video\",\n",
    "        \"maxSupply\": 0,\n",
    "        \"creators\":[\n",
    "            {\n",
    "            \"address\": \"3ksoo5yeKx8GmXA492CL9jkjNFVL8vrAPk818jUftz4J\",\n",
    "            \"verified\":1,\n",
    "            \"share\": 100,\n",
    "            },\n",
    "            ],\n",
    "    },\n",
    "    \"image\": \"https://cdn.discordapp.com/attachments/948242292794351656/999359930417037372/unknown.png\",\n",
    "}\n",
    "\n",
    "# Upload metadata to Arweave\n",
    "meta_transaction = Transaction(your_ar_wallet, data=json.dumps(metadata))\n",
    "meta_transaction.add_tag('Content-Type', 'text/html')\n",
    "meta_transaction.sign()\n",
    "meta_transaction.send()\n",
    "\n",
    "metadata_url = API_URL+\"/\"+meta_transaction.id\n",
    "\n",
    "print(metadata_url)"
   ]
  }
 ],
 "metadata": {
  "kernelspec": {
   "display_name": "Python 3.9.13 64-bit (windows store)",
   "language": "python",
   "name": "python3"
  },
  "language_info": {
   "codemirror_mode": {
    "name": "ipython",
    "version": 3
   },
   "file_extension": ".py",
   "mimetype": "text/x-python",
   "name": "python",
   "nbconvert_exporter": "python",
   "pygments_lexer": "ipython3",
   "version": "3.9.13"
  },
  "orig_nbformat": 4,
  "vscode": {
   "interpreter": {
    "hash": "08b78e4066f9d28ced5f76d81dbed32db21884263686bb618ace706836f0dcaa"
   }
  }
 },
 "nbformat": 4,
 "nbformat_minor": 2
}
