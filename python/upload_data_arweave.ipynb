{
 "cells": [
  {
   "cell_type": "code",
   "execution_count": 1,
   "metadata": {},
   "outputs": [
    {
     "data": {
      "text/plain": [
       "('ApPRG76AL_XAMGkvhuSqIqaSDkeduWBGXA3Cmz4C1Zc', 1.040255040898)"
      ]
     },
     "execution_count": 1,
     "metadata": {},
     "output_type": "execute_result"
    }
   ],
   "source": [
    "\n",
    "from arweave.arweave_lib import Wallet, Transaction, API_URL\n",
    "from arweave.transaction_uploader import get_uploader\n",
    "import json\n",
    "import os\n",
    "from tqdm import tqdm\n",
    "import cv2\n",
    "\n",
    "# Load your arweave wallet\n",
    "your_ar_wallet = Wallet('arweave-key.json')\n",
    "your_ar_wallet.address, your_ar_wallet.balance"
   ]
  },
  {
   "cell_type": "code",
   "execution_count": 2,
   "metadata": {},
   "outputs": [
    {
     "data": {
      "text/plain": [
       "{}"
      ]
     },
     "execution_count": 2,
     "metadata": {},
     "output_type": "execute_result"
    }
   ],
   "source": [
    "Classes = [\"Ruby\", \"Diamond\", \"Sapphire\", \"Emerald\", \"Serendibite\", \"Benitoite\"]\n",
    "\n",
    "Report = {}\n",
    "# for ingl_class in Classes:\n",
    "#     Report[ingl_class] = []\n",
    "Report"
   ]
  },
  {
   "cell_type": "code",
   "execution_count": 3,
   "metadata": {},
   "outputs": [],
   "source": [
    "# for ingl_class in tqdm(Classes):\n",
    "\n",
    "#     arr = os.listdir(f'./Gems/{ingl_class}')\n",
    "\n",
    "#     for vid in arr:\n",
    "#         imgs = cv2.VideoCapture(f'./Gems/{ingl_class}/{vid}')\n",
    "#         imgs.set(1, 155)\n",
    "#         ret, frame = imgs.read()\n",
    "#         cv2.imwrite(f'./Gem_images/{ingl_class}_{vid.split(\".\")[0]}.jpg', frame)"
   ]
  },
  {
   "cell_type": "code",
   "execution_count": 4,
   "metadata": {},
   "outputs": [
    {
     "name": "stderr",
     "output_type": "stream",
     "text": [
      "100%|██████████| 6/6 [17:32<00:00, 175.49s/it]\n"
     ]
    }
   ],
   "source": [
    "for ingl_class in tqdm(Classes):\n",
    "\n",
    "    arr = os.listdir(f'./Gems/{ingl_class}')\n",
    "    t_dict = {}\n",
    "\n",
    "    for vid in arr:\n",
    "\n",
    "        with open(f'./Gems/{ingl_class}/{vid}', 'rb') as file_handler:\n",
    "            tx = Transaction(your_ar_wallet, file_handler=file_handler, file_path=f'./Gems/{ingl_class}/{vid}')\n",
    "            tx.add_tag('Content-Type', 'video/mp4')\n",
    "            tx.sign()\n",
    "\n",
    "            uploader = get_uploader(tx, file_handler)\n",
    "\n",
    "            while not uploader.is_complete:\n",
    "                uploader.upload_chunk()\n",
    "\n",
    "                # logger.info(\"{}% complete, {}/{}\".format(\n",
    "                #     uploader.pct_complete, uploader.uploaded_chunks, uploader.total_chunks\n",
    "                # ))\n",
    "\n",
    "        vid_url = API_URL+\"/\"+tx.id\n",
    "\n",
    "        imgs = cv2.VideoCapture(f'./Gems/{ingl_class}/{vid}')\n",
    "        imgs.set(1,155)\n",
    "        ret, frame = imgs.read()\n",
    "        cv2.imwrite(f'./Gem_images/{ingl_class}_{vid.split(\".\")[0]}.jpg', frame)\n",
    "\n",
    "        with open(f'./Gem_images/{ingl_class}_{vid.split(\".\")[0]}.jpg', 'rb') as f:\n",
    "            img_in_bytes = f.read()\n",
    "\n",
    "        transaction = Transaction(your_ar_wallet, data=img_in_bytes)\n",
    "        transaction.add_tag('Content-Type', 'image/png')\n",
    "        transaction.sign()\n",
    "        transaction.send()\n",
    "\n",
    "        image_url = API_URL+\"/\"+transaction.id\n",
    "\n",
    "        metadata = {\n",
    "        \"name\": \"Ingl-Gem\",\n",
    "        \"symbol\": \"I-Gem\",\n",
    "        \"description\": \"Democratizing The Process of Creating Solana Validators\",\n",
    "        \"seller_fee_basis_points\": 300,\n",
    "        \"external_url\": \"https://www.ingl.io\",\n",
    "        \"attributes\": [\n",
    "            {\n",
    "                \"trait_type\": \"Generation\",\n",
    "                \"value\": \"1\",\n",
    "            },\n",
    "            {\n",
    "                \"trait_type\": \"Class\",\n",
    "                \"value\": ingl_class,\n",
    "            },\n",
    "            {\n",
    "                \"trait_type\": \"Rarity\",\n",
    "                \"value\": vid.split(\".\")[0],\n",
    "            },\n",
    "        ],\n",
    "        \"collection\": {\n",
    "            \"name\": \"Ingl-Gem\",\n",
    "            \"family\": \"Ingl Collections\",\n",
    "        },\n",
    "        \"properties\": {\n",
    "            \"files\": [\n",
    "                {\n",
    "                    \"uri\": vid_url,\n",
    "                    \"type\": \"video/mp4\",\n",
    "                },\n",
    "            ],\n",
    "            \"category\": \"video\",\n",
    "            \"maxSupply\": None,\n",
    "            \"creators\":[\n",
    "                {\n",
    "                \"address\": \"3ksoo5yeKx8GmXA492CL9jkjNFVL8vrAPk818jUftz4J\",\n",
    "                \"verified\":1,\n",
    "                \"share\": 100,\n",
    "                }\n",
    "                ],\n",
    "        },\n",
    "        \"image\": image_url,\n",
    "        }\n",
    "\n",
    "\n",
    "            # Upload metadata to Arweave\n",
    "        meta_transaction = Transaction(your_ar_wallet, data=json.dumps(metadata))\n",
    "        meta_transaction.add_tag('Content-Type', 'text/html')\n",
    "        meta_transaction.sign()\n",
    "        meta_transaction.send()\n",
    "\n",
    "        metadata_url = API_URL+\"/\"+meta_transaction.id\n",
    "        t_dict[vid.split(\".\")[0]] = metadata_url\n",
    "    Report[ingl_class] = t_dict"
   ]
  },
  {
   "cell_type": "code",
   "execution_count": 7,
   "metadata": {},
   "outputs": [
    {
     "data": {
      "text/plain": [
       "{'Ruby': {'mythic': 'https://arweave.net/V-GN01-V0OznWUpKEIf0XAMEA_-ndFOfYKNJoPdNpsE',\n",
       "  'none': 'https://arweave.net/269uSJ8LWFFeWVA44oeJuvAJhD6Otu6_9Ruc323zKi0'},\n",
       " 'Diamond': {'mythic': 'https://arweave.net/K8A0TAPGY0QZCuyPDXPemGNNtKe97r07JCQ5pS4J6nA',\n",
       "  'none': 'https://arweave.net/mxqPr11o3xJrV0lSxPpjSjry8YBf2nRGFsPMkiFIL4g'},\n",
       " 'Sapphire': {'mythic': 'https://arweave.net/00h-GOmxAzRuo3FAyddmd0VVazj6fNId3Xkhg5S3Fww',\n",
       "  'none': 'https://arweave.net/4ddiMaqN-1LxQuGfcJE3qUbKh-IaULpTK9BYYlbY17s'},\n",
       " 'Emerald': {'mythic': 'https://arweave.net/RXG9EgRsMVrpGpAd5PgjzCfP0hBdybMepf07wQPoXEU',\n",
       "  'none': 'https://arweave.net/DdZ9tKy1ZBfTKHFXsPzhkcBMYTSsv5g7bmgZ_d6mG1Y'},\n",
       " 'Serendibite': {'mythic': 'https://arweave.net/kng_bDJLMewvQ_1_M2YUrRnGJjoH-YWf-eRYeCXj7cE',\n",
       "  'none': 'https://arweave.net/e3ao7wBo7wSp5EHUNNg79MN8seQTZ5HNCSLQdxTPmlg'},\n",
       " 'Benitoite': {'mythic': 'https://arweave.net/kvqeN_tHeVprbecix2aO4mBrdHAT8k4szgQxDnu14UQ',\n",
       "  'none': 'https://arweave.net/Xo-Hk-ZHswayP5kJeiajj1WUCnBnTWH_1_FXxP2tQlw'}}"
      ]
     },
     "execution_count": 7,
     "metadata": {},
     "output_type": "execute_result"
    }
   ],
   "source": [
    "with open(\"uploaded_images.json\", \"w\") as outfile:\n",
    "    json.dump(Report, outfile)\n",
    "Report"
   ]
  },
  {
   "cell_type": "code",
   "execution_count": 6,
   "metadata": {},
   "outputs": [],
   "source": [
    "# metadata = {\n",
    "#     \"name\": \"NewB\",\n",
    "#     \"symbol\": \"Ingl-Col\",\n",
    "#     \"description\": \"Democratizing Validator Creation on Solana\",\n",
    "#     \"seller_fee_basis_points\": 300,\n",
    "#     \"external_url\": \"https://www.ingl.io\",\n",
    "#     \"attributes\": [\n",
    "#         {\n",
    "#             \"trait_type\": \"Class\",\n",
    "#             \"value\": \"Ruby\"\n",
    "#         }\n",
    "#     ],\n",
    "#     \"collection\": {\n",
    "#         \"name\": \"ingl-Gem\",\n",
    "#         \"family\": \"Ingl-Collections\",\n",
    "#     },\n",
    "#     \"properties\": {\n",
    "#         \"files\": [\n",
    "#             {\n",
    "#                 \"uri\": \"https://cdn.discordapp.com/attachments/973276746700980224/999358394337087528/0001-0300_2.mp4\",\n",
    "#                 \"type\": \"video/mp4\",\n",
    "#             },\n",
    "#         ],\n",
    "#         \"category\": \"video\",\n",
    "#         \"maxSupply\": 0,\n",
    "#         \"creators\":[\n",
    "#             {\n",
    "#             \"address\": \"3ksoo5yeKx8GmXA492CL9jkjNFVL8vrAPk818jUftz4J\",\n",
    "#             \"verified\":1,\n",
    "#             \"share\": 100,\n",
    "#             },\n",
    "#             ],\n",
    "#     },\n",
    "#     \"image\": \"https://cdn.discordapp.com/attachments/948242292794351656/999359930417037372/unknown.png\",\n",
    "# }\n",
    "\n",
    "# # Upload metadata to Arweave\n",
    "# meta_transaction = Transaction(your_ar_wallet, data=json.dumps(metadata))\n",
    "# meta_transaction.add_tag('Content-Type', 'text/html')\n",
    "# meta_transaction.sign()\n",
    "# meta_transaction.send()\n",
    "\n",
    "# metadata_url = API_URL+\"/\"+meta_transaction.id\n",
    "\n",
    "# print(metadata_url)"
   ]
  }
 ],
 "metadata": {
  "kernelspec": {
   "display_name": "Python 3.9.13 64-bit (windows store)",
   "language": "python",
   "name": "python3"
  },
  "language_info": {
   "codemirror_mode": {
    "name": "ipython",
    "version": 3
   },
   "file_extension": ".py",
   "mimetype": "text/x-python",
   "name": "python",
   "nbconvert_exporter": "python",
   "pygments_lexer": "ipython3",
   "version": "3.9.13"
  },
  "orig_nbformat": 4,
  "vscode": {
   "interpreter": {
    "hash": "08b78e4066f9d28ced5f76d81dbed32db21884263686bb618ace706836f0dcaa"
   }
  }
 },
 "nbformat": 4,
 "nbformat_minor": 2
}
